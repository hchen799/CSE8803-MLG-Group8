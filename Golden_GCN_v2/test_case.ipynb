{
 "cells": [
  {
   "cell_type": "code",
   "execution_count": 1,
   "metadata": {},
   "outputs": [],
   "source": [
    "import numpy as np"
   ]
  },
  {
   "cell_type": "code",
   "execution_count": 4,
   "metadata": {},
   "outputs": [
    {
     "name": "stdout",
     "output_type": "stream",
     "text": [
      "[[0. 0. 0.]\n",
      " [0. 0. 0.]\n",
      " [0. 0. 0.]]\n"
     ]
    }
   ],
   "source": [
    "a = np.zeros([3,3])\n",
    "print(a)"
   ]
  },
  {
   "cell_type": "code",
   "execution_count": 6,
   "metadata": {},
   "outputs": [],
   "source": [
    "a[0][0] = 3\n",
    "a[0][1] = 4\n",
    "a[0][2] = 1\n",
    "a[1][0] = 2\n",
    "a[1][1] = 5\n",
    "a[1][2] = 10\n",
    "a[2][0] = 22\n",
    "a[2][1] = 8\n",
    "a[2][2] = 99\n"
   ]
  },
  {
   "cell_type": "code",
   "execution_count": 9,
   "metadata": {},
   "outputs": [
    {
     "name": "stdout",
     "output_type": "stream",
     "text": [
      "[8 6 5 7 4 1 0 3 2]\n"
     ]
    }
   ],
   "source": [
    "index = np.argsort(a, axis=None)[::-1]\n",
    "print(index)"
   ]
  },
  {
   "cell_type": "code",
   "execution_count": 11,
   "metadata": {},
   "outputs": [
    {
     "name": "stdout",
     "output_type": "stream",
     "text": [
      "(2, 0)\n"
     ]
    }
   ],
   "source": [
    "def get_actual_index(index, shape):\n",
    "    return np.unravel_index(index, shape)\n",
    "shape = (3,3)\n",
    "actual_index = get_actual_index(6, shape)\n",
    "print(actual_index)"
   ]
  }
 ],
 "metadata": {
  "kernelspec": {
   "display_name": "INR_pytorch",
   "language": "python",
   "name": "python3"
  },
  "language_info": {
   "codemirror_mode": {
    "name": "ipython",
    "version": 3
   },
   "file_extension": ".py",
   "mimetype": "text/x-python",
   "name": "python",
   "nbconvert_exporter": "python",
   "pygments_lexer": "ipython3",
   "version": "3.9.16"
  }
 },
 "nbformat": 4,
 "nbformat_minor": 2
}
